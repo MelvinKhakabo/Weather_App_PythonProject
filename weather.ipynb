{
 "cells": [
  {
   "cell_type": "markdown",
   "metadata": {},
   "source": [
    "# Weather App (CLI Version)\n",
    "\n",
    "## Objective\n",
    "Create a command-line weather application where the user can input a city name, and the app fetches and displays the current weather.\n",
    "\n",
    "## Features\n",
    "### User Input\n",
    "Prompt the user to enter a city name.\n",
    "### API Integration\n",
    "Use a free weather API like\n",
    "OpenWeatherMap\n",
    "to fetch real-time weather data.\n",
    "Parse the API response to display relevant information like temperature, humidity, and weather description.\n",
    "### Error Handling:\n",
    "Handle errors such as invalid city names or network issues."
   ]
  },
  {
   "cell_type": "markdown",
   "metadata": {},
   "source": []
  }
 ],
 "metadata": {
  "language_info": {
   "name": "python"
  }
 },
 "nbformat": 4,
 "nbformat_minor": 2
}
