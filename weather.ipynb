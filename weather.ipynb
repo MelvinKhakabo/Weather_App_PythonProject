{
 "cells": [
  {
   "cell_type": "markdown",
   "metadata": {},
   "source": [
    "# Weather App (CLI Version)\n",
    "\n",
    "## Objective\n",
    "Create a command-line weather application where the user can input a city name, and the app fetches and displays the current weather.\n",
    "\n",
    "## Features\n",
    "### User Input\n",
    "Prompt the user to enter a city name.\n",
    "### API Integration\n",
    "Use a free weather API like\n",
    "OpenWeatherMap\n",
    "to fetch real-time weather data.\n",
    "Parse the API response to display relevant information like temperature, humidity, and weather description.\n",
    "### Error Handling:\n",
    "Handle errors such as invalid city names or network issues."
   ]
  },
  {
   "cell_type": "code",
   "execution_count": 1,
   "metadata": {},
   "outputs": [
    {
     "name": "stdout",
     "output_type": "stream",
     "text": [
      "Welcome to the Weather App!\n",
      "\n",
      "Weather in Abuja, Nigeria:\n",
      "  Temperature: 37.1°C\n",
      "  Condition: Sunny\n",
      "  Humidity: 27%\n",
      "  Wind Speed: 5.4 km/h\n",
      "\n",
      "Weather in Nairobi, Kenya:\n",
      "  Temperature: 26.3°C\n",
      "  Condition: Partly cloudy\n",
      "  Humidity: 34%\n",
      "  Wind Speed: 17.3 km/h\n",
      "Goodbye!\n"
     ]
    }
   ],
   "source": [
    "#code to get the weather of a city using the WeatherAPI\n",
    "import requests\n",
    "\n",
    "# Replace this with your actual WeatherAPI key\n",
    "API_KEY = \"09d47f5bf4a44d0785e130319242912\"\n",
    "\n",
    "def get_weather(city):\n",
    "    # Base URL for WeatherAPI\n",
    "    url = f\"http://api.weatherapi.com/v1/current.json?key={API_KEY}&q={city}&aqi=no\"\n",
    "    \n",
    "    try:\n",
    "        response = requests.get(url)\n",
    "        # Check if the request was successful\n",
    "        if response.status_code == 200:\n",
    "            data = response.json()\n",
    "            # Extract and display weather information\n",
    "            location = data[\"location\"][\"name\"]\n",
    "            country = data[\"location\"][\"country\"]\n",
    "            temperature = data[\"current\"][\"temp_c\"]\n",
    "            condition = data[\"current\"][\"condition\"][\"text\"]\n",
    "            humidity = data[\"current\"][\"humidity\"]\n",
    "            wind_speed = data[\"current\"][\"wind_kph\"]\n",
    "            \n",
    "            print(f\"\\nWeather in {location}, {country}:\")\n",
    "            print(f\"  Temperature: {temperature}°C\")\n",
    "            print(f\"  Condition: {condition}\")\n",
    "            print(f\"  Humidity: {humidity}%\")\n",
    "            print(f\"  Wind Speed: {wind_speed} km/h\")\n",
    "        else:\n",
    "            print(f\"Error: {response.status_code} - {response.text}\")\n",
    "    except requests.exceptions.RequestException as e:\n",
    "        print(f\"An error occurred: {e}\")\n",
    "\n",
    "def main():\n",
    "    print(\"Welcome to the Weather App!\")\n",
    "    while True:\n",
    "        city = input(\"\\nEnter a city name (or type 'exit' to quit): \")\n",
    "        if city.lower() == \"exit\":\n",
    "            print(\"Goodbye!\")\n",
    "            break\n",
    "        get_weather(city)\n",
    "\n",
    "if __name__ == \"__main__\":\n",
    "    main()\n",
    "\n"
   ]
  }
 ],
 "metadata": {
  "kernelspec": {
   "display_name": "Python 3",
   "language": "python",
   "name": "python3"
  },
  "language_info": {
   "codemirror_mode": {
    "name": "ipython",
    "version": 3
   },
   "file_extension": ".py",
   "mimetype": "text/x-python",
   "name": "python",
   "nbconvert_exporter": "python",
   "pygments_lexer": "ipython3",
   "version": "3.13.0"
  }
 },
 "nbformat": 4,
 "nbformat_minor": 2
}
